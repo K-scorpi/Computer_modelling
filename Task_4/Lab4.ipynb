{
 "cells": [
  {
   "cell_type": "markdown",
   "metadata": {},
   "source": [
    "# Лабораторная работа 4 Задача Кеплера и моделирование колебательных процессов"
   ]
  },
  {
   "cell_type": "markdown",
   "metadata": {},
   "source": [
    "## Два раза кликните по блоку ниже (ФИО/Группа) и заполните ваше ФИО и номер группы."
   ]
  },
  {
   "cell_type": "markdown",
   "metadata": {},
   "source": [
    "ФИО: \n",
    "\n",
    "Группа: "
   ]
  },
  {
   "cell_type": "markdown",
   "metadata": {},
   "source": [
    "## Подключите необходимые библиотеки для лабораторной работы"
   ]
  },
  {
   "cell_type": "code",
   "execution_count": 2,
   "metadata": {},
   "outputs": [],
   "source": [
    "import numpy as np\n",
    "import matplotlib.pyplot as plt\n",
    "from scipy.integrate import solve_ivp\n",
    "%matplotlib inline"
   ]
  },
  {
   "cell_type": "markdown",
   "metadata": {},
   "source": [
    "## 1. Теория моделирование колебательных процессов\n"
   ]
  },
  {
   "cell_type": "markdown",
   "metadata": {},
   "source": [
    "### Гармонический осциллятор\n",
    "\n",
    "Один из наиболее распространенных типов движения механических систем\n",
    "представляет собой малые колебания, которые система совершает вблизи положения\n",
    "устойчивого равновесия. Наиболее простым с математической точки зрения\n",
    "оказывается описание движения систем, имеющих одну степень свободы. Примером\n",
    "такой системы является тело массой $m$, расположенное на абсолютно гладкой\n",
    "горизонтальной поверхности и прикрепленное к свободному концу пружины жесткостью\n",
    "$k$.\n",
    "\n",
    "Будем описывать положение тела координатой $x$ и примем за начало отсчета ($x =\n",
    "0$) точку равновесия груза на пружине. При смещении тела из положения равновесия\n",
    "$x = 0$ на небольшое расстояние $x$, со стороны пружины на тело будет\n",
    "действовать возвращающая сила, пропорциональная величине смещения и направленная\n",
    "в сторону положения равновесия:\n",
    "\n",
    "$$F = −kx (1.1)$$\n",
    "\n",
    "Знак минус в (1.1) указывает на то, что сила стремится вернуть тело в положение\n",
    "равновесия. На основании второго закона Ньютона:\n",
    "\n",
    "$$m \\ddot{x} = −kx (1.2)$$\n",
    "\n",
    "Разделив обе части уравнения на массу $m$ и введя обозначение\n",
    "\n",
    "$$\\omega_0 = \\sqrt{\\frac{k}{m}} (1.3)$$\n",
    "\n",
    "запишем уравнения движения линейного гармонического осциллятора в виде\n",
    "\n",
    "$$\\ddot{x} + \\omega_0^2 x = 0 (1.4)$$\n",
    "\n",
    "где $\\omega_0$ называется циклической частотой.\n",
    "\n",
    "Уравнение (1.4) является линейным дифференциальным уравнением второго порядка.\n",
    "Аналитическое решение данного уравнения хорошо известно:\n",
    "\n",
    "$$x(t) = A \\cos (\\omega_0 t + \\delta) (1.5)$$\n",
    "\n",
    "где $A$, $\\delta$ — постоянные, называемые амплитудой и начальной фазой,\n",
    "определяются из начальных условий для координаты и скорости:\n",
    "\n",
    "$x0 = x(0)$,\n",
    "\n",
    "$v0 = v(0)$.\n",
    "\n",
    "По определению период периодической функции есть наименьшее время, через которое\n",
    "движение повторяется, то есть:\n",
    "\n",
    "$$x(t + T) = x(t) (1.6)$$\n",
    "\n",
    "Так как период функции косинус равен $2\\pi$, то величина $\\omega_0 T$\n",
    "соответствует одному периоду колебания:\n",
    "\n",
    "$\\omega_0 T = 2 \\pi$,\n",
    "\n",
    "откуда находим связь между $\\omega$ и $Т$:\n",
    "\n",
    "$$T = 2 \\pi \\omega_0 = \\frac{2 \\pi} {\\sqrt{k/m}} = 2 \\pi \\sqrt{\\frac{m}{k}} (1.7)$$\n",
    "\n",
    "Частота колебаний $\\nu$ представляет собой число периодов в одну секунду и\n",
    "определяется выражением:\n",
    "\n",
    "$$\\nu = \\frac{1}{T} (1.8)$$\n",
    "\n",
    "Необходимо отметить, что в соответствии с (1.7) период колебаний зависит от\n",
    "отношения $k/m$, но не зависит от $А$ и $\\delta$. Это означает, что период\n",
    "колебаний линейного гармонического осциллятора не зависит от амплитуды\n",
    "колебаний. Легко показать, что полная энергия линейного гармонического\n",
    "осциллятора $Е$:\n",
    "\n",
    "$$E = \\frac{1}{2} mv^2 +\\frac{1}{2} kx^2 (1.9)$$\n",
    "\n",
    "где первое слагаемое — это кинетическая энергия, второе слагаемое —\n",
    "потенциальная энергия.\n",
    "\n",
    "Предваряя рассмотрение более сложных случаев периодического движения физических\n",
    "систем, уравнения движения большинства из которых не допускают аналитического\n",
    "решения, продемонстрируем общий подход к нахождению и анализу численных решений\n",
    "уравнения движения на примере линейного гармонического осциллятора (1.4).\n",
    "Вычисленные зависимости $x = x(t)$, $v = v(t)$ полностью описывают движение\n",
    "одномерного линейного гармонического осциллятора. С другой стороны, пару\n",
    "значений функций {$x(t_n)$, $y(t_n)$} в выбранный момент времени можно\n",
    "рассматривать как координаты некоторой точки в двумерном пространстве,\n",
    "называемом фазовой плоскостью. Кривая, образованная на фазовой плоскости, при\n",
    "нанесении точек {$x(t_i)$, $y(t_i)$} в последовательные моменты времени\n",
    "называется фазовой траекторий.\n",
    "\n",
    "Для нахождения численного решения уравнения движения линейного гармонического\n",
    "осциллятора (1.4) и их визуализации следует привести ДУ второго порядка к системе\n",
    "ДУ первого порядка, затем создать функцию, содержащую определение функции,\n",
    "стоящей в правой части системы ДУ.\n",
    "\n",
    "Для описания движения с конечными амплитудами выражение для возвращающей силы\n",
    "будет содержать члены, пропорциональные второй и более высоким степеням х, а\n",
    "уравнение движения примет следующий вид:\n",
    "\n",
    "$$\\ddot{x} + \\omega_0^2 x = −\\alpha x^2 (1.10)$$"
   ]
  },
  {
   "cell_type": "markdown",
   "metadata": {},
   "source": [
    "#### Задание. Создайте функцию для гармонического осциллятора (4)"
   ]
  },
  {
   "cell_type": "code",
   "execution_count": 3,
   "metadata": {},
   "outputs": [],
   "source": [
    "def MyOscillator(t, z):\n",
    "    \"\"\"Функция, стоящая в правой части системы ДУ первого порядка\n",
    "    эквивалентной ДУ (4)\n",
    "\n",
    "    Args:\n",
    "        t: название\n",
    "        z: название\n",
    "    \"\"\"\n",
    "    \n",
    "    global omega\n",
    "    \n",
    "    return dy"
   ]
  },
  {
   "cell_type": "markdown",
   "metadata": {},
   "source": [
    "#### Задание. Рассчитайте осциллятор и постройте результаты\n",
    "\n",
    "1. Зависимость координаты материальной точки от времени $x=x(t)$\n",
    "\n",
    "2. Зависимость скорости движения материальной точки от времени $y=y'(t)$\n",
    "\n",
    "3. Фазовая траектория гармонического осциллятора\n",
    "\n",
    "Для решения ДУ можно использовать решатели дифференциальных уравнений Python [scipy.integrate](https://docs.scipy.org/doc/scipy/reference/integrate.html)"
   ]
  },
  {
   "cell_type": "code",
   "execution_count": 4,
   "metadata": {},
   "outputs": [
    {
     "data": {
      "text/plain": [
       "Text(0,0.5,'Название')"
      ]
     },
     "execution_count": 4,
     "metadata": {},
     "output_type": "execute_result"
    },
    {
     "data": {
      "image/png": "[encoded data removed]",
      "text/plain": [
       "<Figure size 432x288 with 1 Axes>"
      ]
     },
     "metadata": {},
     "output_type": "display_data"
    },
    {
     "data": {
      "image/png": "[encoded data removed]",
      "text/plain": [
       "<Figure size 432x288 with 1 Axes>"
      ]
     },
     "metadata": {},
     "output_type": "display_data"
    },
    {
     "data": {
      "image/png": "[encoded data removed]",
      "text/plain": [
       "<Figure size 432x288 with 1 Axes>"
      ]
     },
     "metadata": {},
     "output_type": "display_data"
    }
   ],
   "source": [
    "global omega\n",
    "# коэффициент жесткости\n",
    "k = 9 \n",
    "# масса осциллятора\n",
    "m = 1\n",
    "# период колебаний\n",
    "T = 2 * np.pi * (k / m) ** 0.5\n",
    "# циклическая частота\n",
    "omega = 2 * np.pi / T\n",
    "# начальные условия\n",
    "\n",
    "# число узлов временной сетки\n",
    "N = 10 ** 4\n",
    "\n",
    "sol = \n",
    "\n",
    "T = sol.t\n",
    "Y = sol.y\n",
    "\n",
    "\n",
    "# Зависимость координаты материальной точки от времени x=x(t)\n",
    "plt.plot(T, Y[0,:])\n",
    "plt.title('Название')\n",
    "plt.xlabel('Название')\n",
    "plt.ylabel('Название')\n",
    "\n",
    "# Зависимость скорости движения материальной точки от времени y=y'(t)\n",
    "plt.figure()\n",
    "plt.plot(T, Y[1,:])\n",
    "plt.title('Название')\n",
    "plt.xlabel('Название')\n",
    "plt.ylabel('Название')\n",
    "\n",
    "# Фазовая траектория гармонического осциллятора\n",
    "plt.figure()\n",
    "plt.plot(Y[0,:], Y[1,:])\n",
    "plt.title('Название')\n",
    "plt.xlabel('Название')\n",
    "plt.ylabel('Название')"
   ]
  },
  {
   "cell_type": "markdown",
   "metadata": {},
   "source": [
    "### Математический маятник\n",
    "\n",
    "Рассмотрим движение груза массой $m$, прикрепленного к одному из концов жесткого\n",
    "стержня длиной $L$, другой конец которого закреплен в точке подвеса. Такая\n",
    "система, как известно из опыта, будучи выведенной из положения равновесия будет\n",
    "совершать колебания. Для описания движения данной системы в первом приближении\n",
    "используют модель, в которой пренебрегают трением в точке подвеса, массой\n",
    "стержня по сравнению с массой груза и считают, что вся масса груза приложена в\n",
    "одной точке. Данная модель называется математическим маятником. Так как движение\n",
    "груза происходит по дуге окружности радиуса $L$ с центром в точке $O$, то\n",
    "положение груза характеризуется углом отклонения стержня о вертикали $\\theta$.\n",
    "При движении по окружности линейная скорость и ускорение груза равны:\n",
    "\n",
    "$$v = L \\frac{d\\theta}{dt} (1.11)$$\n",
    "\n",
    "$$a = L \\frac{d^2\\theta}{dt^2} (1.12)$$\n",
    "\n",
    "В используемой модели на математический маятник действуют две силы: сила тяжести\n",
    "$\\vec{m}g$, направленная вертикально вниз, и сила реакции стержня.\n",
    "Равнодействующая этих сил, равная, $−mg \\sin \\theta$, направлена в сторону\n",
    "уменьшения угла $\\theta$.\n",
    "\n",
    "Следовательно, уравнение движения математического маятника записывается в виде:\n",
    "\n",
    "$$mL\\frac{d^\\theta}{dt^2} = -mg\\sin \\theta (1.13)$$\n",
    "\n",
    "$$\\frac{d^\\theta}{dt^2} = \\frac{g}{L} \\sin \\theta (1.14)$$\n",
    "\n",
    "В общем случае уравнение (1.14) оказывается нелинейным. Его решение, как и решения\n",
    "большинства нелинейных уравнений, не выражается через элементарные функции.\n",
    "Отмеченная особенность (1.14) определяет необходимость использования для его\n",
    "решения численных методов. Однако при достаточно малых углах, при которых\n",
    "$\\sin \\theta \\approx θ\\theta$ уравнение (14) становится линейным\n",
    "\n",
    "$$\\frac{d^2\\theta}{dt^2}= − \\frac{g}{L} \\theta (1.15)$$\n",
    "\n",
    "Вводя обозначение\n",
    "\n",
    "$$\\omega_0 = \\sqrt{\\frac{L}{g}} (1.16)$$\n",
    "\n",
    "и сравнивая уравнения (1.4) и (1.13), видим, что они оказываются одинаковыми.\n",
    "Следовательно, результаты, полученные для линейного гармонического осциллятора,\n",
    "могут быть использованы при описании математического маятника. В частности,\n",
    "период малых колебаний математического маятника\n",
    "\n",
    "$$Т = \\frac{2\\pi}{\\omega_0}=2\\pi\\sqrt{\\frac{L}{g}} (1.17)$$\n",
    "\n",
    "не зависит от амплитуды колебаний.\n",
    "\n",
    "Получим выражение для полной энергии математического маятника, являющейся\n",
    "интегралом движения. Потенциальная энергия математического маятника $U$,\n",
    "отсчитываемая от точки равновесия маятника, равна\n",
    "\n",
    "$$U = mgh = mgL(1 − \\cos \\theta) (1.18)$$\n",
    "\n",
    "\n",
    "Кинетическая энергия маятника равна\n",
    "$\\frac{1}{2}mv^2=\\frac{1}{2}mL^2(\\frac{d\\theta}{dt})^2$\n",
    "\n",
    "поэтому полная энергия маятника задается следующим выражением:\n",
    "\n",
    "$$E = \\frac{1}{2}mL^2(\\frac{d\\theta}{dt})^2 + mgL(1-\\cos \\theta) (1.19)$$\n",
    "\n",
    "Уравнение (1.19) позволяет получить формулу, связывающую период колебания\n",
    "математического маятника и угол начального отклонения. Для этого разрешим\n",
    "уравнение (1.19) относительно $\\frac{d\\theta}{dt}$:\n",
    "\n",
    "$$\\frac{d\\theta}{dt} = \\pm \\sqrt{\\frac{2}{mL^2}(E-mgL(1 \\cos \\theta))} (1.20)$$\n",
    "\n",
    "Из (1.20) видно, что переменные разделяются:\n",
    "\n",
    "$$dt = \\pm \\frac{d\\theta}{\\sqrt{\\frac{2}{mL^2}(E-mgL(1 \\cos \\theta))}} (1.21)$$\n",
    "\n",
    "Интегрируя (1.21), находим выражение для периода колебаний математического\n",
    "маятника:\n",
    "\n",
    "$$T = 2 \\int_{-\\theta_0}^{\\theta_0} \\frac{d\\theta}{\\sqrt{\\frac{2}{mL^2}(E-mgL(1\n",
    "\\cos \\theta))}} (1.22)$$\n",
    "\n",
    "где $\\theta_0$ — начальный угол отклонения маятника.\n",
    "\n",
    "При движении маятника из начального положения с нулевой начальной скоростью \n",
    "$E = mgL (1 − \\cos \\theta_0)$, поэтому\n",
    "\n",
    "$$T = \\frac{2L}{g} \\int_{-\\theta_0}^{\\theta_0} \\frac{d\\theta}{\\cos\\theta \\cos\\theta_0} (1.23)$$"
   ]
  },
  {
   "cell_type": "markdown",
   "metadata": {},
   "source": [
    "#### Задание. Создайте функцию для нахождения численного решения находить численное решение уравнения движения математического маятника (1.14).\n",
    "\n",
    "Получите численное решение уравнения движения при различных начальных углах отклонения и проведите их сравнительный анализ, используя зависимости $x = x(t)$, $v = v(t)$, фазовую траекторию.\n"
   ]
  },
  {
   "cell_type": "code",
   "execution_count": 5,
   "metadata": {},
   "outputs": [],
   "source": [
    "# код"
   ]
  },
  {
   "cell_type": "markdown",
   "metadata": {},
   "source": [
    "### Затухающие колебания\n",
    "\n",
    "Из опыта известно, что в большинстве реальных колебательных систем присутствует трение. Это приводит к тому, что в отсутствие подкачки энергии в колебательную систему, амплитуда колебаний уменьшается до ее полной остановки. Такие колебания называются затухающими. В качестве примера колебательной системы, совершающей гармонические колебания, рассмотрим движение груза на пружине. При движении с малыми скоростями, можно использовать модель, в которой сила трения пропорциональна первой степени скорости движения. В этом случае уравнения движения можно записать в виде:\n",
    "\n",
    "$\\frac{d^2x}{dt^2} = -\\omega^2_0x \\gamma \\frac{dx}{dt}$ (1.24)\n",
    "\n",
    "где $\\gamma$ — коэффициент затухания."
   ]
  },
  {
   "cell_type": "markdown",
   "metadata": {},
   "source": [
    "#### Задание. Создайте функцию реализующее правую часть уравнения (1.24)"
   ]
  },
  {
   "cell_type": "code",
   "execution_count": 6,
   "metadata": {},
   "outputs": [],
   "source": [
    "# код"
   ]
  },
  {
   "cell_type": "markdown",
   "metadata": {},
   "source": [
    "#### Задание. Выполните моделирование согласно пунктам:\n",
    "\n",
    "1. Проведите расчеты и постройте зависимости для колебательной системы с параметрами $\\omega_0 = 3$, $x(0) = 1$, $v(0) = 0$, $\\gamma = 0,5$.\n",
    "\n",
    "2. Используя спектр функции $x = x(t)$, определите частоту и период колебаний осциллятора.\n",
    "\n",
    "3. Постройте графики зависимости значений, полученных при различных значениях коэффициента затухания $\\gamma$."
   ]
  },
  {
   "cell_type": "code",
   "execution_count": 7,
   "metadata": {},
   "outputs": [],
   "source": [
    "# код"
   ]
  },
  {
   "cell_type": "markdown",
   "metadata": {},
   "source": [
    "### Вынужденные колебания линейного гармонического осциллятора\n",
    "\n",
    "При воздействии на линейный гармонический осциллятор внешней переменной силы, равной $F(t)$, система будет совершать движения, которые в отличие от рассмотренных в предыдущих параграфах называются вынужденными колебаниями. Соответствующее уравнение движения имеет вид\n",
    "\n",
    "$$\n",
    "\\ddot{x} = -\\omega^2_0 x \\gamma \\frac{dx}{dt} + \\frac{F(t)}{m} (1.25)\n",
    "$$"
   ]
  },
  {
   "cell_type": "markdown",
   "metadata": {},
   "source": [
    "#### Задание. Создайте функцию для численного решения уравнения (25) для силы вида $ \\frac{F(t)}{m} = A_0 \\cos (\\omega t)$"
   ]
  },
  {
   "cell_type": "code",
   "execution_count": null,
   "metadata": {},
   "outputs": [],
   "source": [
    "# код"
   ]
  },
  {
   "cell_type": "markdown",
   "metadata": {},
   "source": [
    "##### Задание. Выполните пункты\n",
    "\n",
    "1. Проведите расчеты и постройте зависимости $x = x(t)$, $y  = y(t)$ для колебательной системы с параметрами $\\omega_0 = 3$, $x(0) = 1$, $v(0) = 0$, $\\gamma = 0.5$, $A_0 = 1$, $\\omega = 2$.\n",
    "\n",
    "2. Сравните полученные результаты с результатами предыдущей задачи. В чем состоит качественное отличие поведения функции от случая невозмущенного движения? Чему равны период и частота функции после нескольких колебаний?\n",
    "\n",
    "3. Постройте результаты для разных значений $A_0 = \\{1; 4; 8\\}$, $\\omega = \\{0; 1.0; 2.0; 3.0\\}$ и $ \\gamma = \\{0.5; 2; 4; 8\\}$. Какие выводы можно сделать?"
   ]
  },
  {
   "cell_type": "code",
   "execution_count": null,
   "metadata": {},
   "outputs": [],
   "source": [
    "# код"
   ]
  },
  {
   "cell_type": "markdown",
   "metadata": {},
   "source": [
    "### 2. Задача Кеплера\n",
    "\n",
    "Задача о движении планет в поле тяжести небесных светил, являющаяся частным\n",
    "случаем задачи о движении в поле центральных сил, известна на протяжении\n",
    "нескольких тысячелетий истории человечества и в настоящее время рассматривается\n",
    "как в школьных курсах физики, астрономии, так и в вузовских курсах классической\n",
    "механики и астрономии. Большую часть наших знаний о движении планет объединили в\n",
    "себе законы Кеплера, полученные на основе анализа данных астрономических\n",
    "наблюдений, которые формулируются следующим образом:\n",
    "\n",
    "1. Всякая планета движется по эллиптической орбите, в одном из фокусов которой\n",
    "находится Солнце.\n",
    "\n",
    "2. Скорость планеты возрастает по мере удаления от Солнца таким образом, что\n",
    "прямая, соединяющая Солнце и планету, в равные промежутки времени заметает\n",
    "одинаковую площадь.\n",
    "\n",
    "3. Для всех планет, вращающихся вокруг Солнца, отношение $\\frac{T^2}{R^3}$\n",
    "одинаково ($T$ — период обращения планеты вокруг Солнца, $R$ — большая полуось\n",
    "эллипса).\n",
    "\n",
    "Отметим, что получить аналитическое решение задачи Кеплера удается только в\n",
    "случае рассмотрения движения двух тел, взаимодействующих по закону обратных\n",
    "квадратов. Это решение рассматривается во всех учебниках по классической\n",
    "механике, только малая часть из которых приведена в списке литературы. Задача\n",
    "Кеплера для трех и более тел аналитического решения не имеет, может быть решена\n",
    "только численно, поэтому в этой главе основное внимание мы уделяем численному\n",
    "решению уравнений движения тела в центральном поле.\n",
    "\n",
    "\n",
    "### Уравнения движения планет\n",
    "\n",
    "В качестве отправной точки решения задачи Кеплера рассмотрим движение двух тел,\n",
    "взаимодействующих друг с другом, считая их при этом материальными точками.\n",
    "\n",
    "Функция Лагранжа такой системы имеет вид:\n",
    "$$ L = \\frac{m_1 \\dot{\\vec{r}}^2_1}{2}\n",
    "+ \\frac{m_2 \\dot{\\vec{r}}^2_2}{2} U(|\\vec{r}_1-\\vec{r}_2|) = \\frac{m_1\n",
    "\\dot{\\vec{r}}^2_1}{2} + \\frac{m_2 \\dot{\\vec{r}}^2_2}{2} + \\frac{\\gamma m_1\n",
    "m_2}{|\\vec{r}_1-\\vec{r}_2|} (2.1) $$\n",
    "\n",
    "где $\\vec{r}_1$, $\\vec{r}_2$ — радиусы-векторы первого и второго тела\n",
    "соответственно, $U(|\\vec{r}_1 − \\vec{r}_2|)$ — потенциальная энергия\n",
    "взаимодействия тел, $\\gamma$ — гравитационная постоянная.\n",
    "\n",
    "Введем вектор взаимного расстояния обоих тел\n",
    "\n",
    "$$\n",
    "\\vec{r}_{12} = \\vec{r}_1 \\vec{r}_2 (2.2)\n",
    "$$\n",
    "\n",
    "Тогда в системе отсчета с началом координат в центре масс, рассматриваемой\n",
    "системы тел $$ m_1\\vec{r}_1 + m_2\\vec{r}_2 = 0 (2.3) $$\n",
    "\n",
    "Из (2.2), (2.3) находим\n",
    "$$\n",
    "\\vec{r}_1 = \\frac{m_2}{m_1+m_2}\\vec{r}_{12} (2.4)\n",
    "\\vec{r}_2 = \\frac{m_1}{m_1+m_2}\\vec{r}_{12} (2.5)\n",
    "$$\n",
    "\n",
    "\n",
    "\n",
    "Подставляя (2.4), (2.5) в (2.1), получаем \n",
    "\n",
    "$$ L = \\frac{m\n",
    "\\dot{\\vec{r}}_{12}^2}{2} + U(|\\vec{r}_{12}|) = \\frac{m \\dot{\\vec{r}}_{12}^2}{2}\n",
    "+ \\frac{\\gamma m (m_1 + m_2)}{|\\vec{r}_{12}|} (2.6)\n",
    "$$\n",
    "\n",
    "где введено значение\n",
    "\n",
    "$$m=\\frac{m_1m_2}{m_1+m_2} (2.7) $$\n",
    "\n",
    "\n",
    "Величину, определяемую в соответствии с (2.7), принято называть приведенной\n",
    "массой. Функция (2.6) формально совпадает с функцией Лагранжа одной материальной\n",
    "точки с массой m, движущейся в потенциале $U(|\\vec{r}_{12}|)$, симметричным\n",
    "относительно начала выбранной системы отсчета. Таким образом, задача о движении\n",
    "двух взаимодействующих тел сводится к решению задачи о движении одного тела с\n",
    "массой m в заданном внешнем поле $U(|\\vec{r}_{12}|)$, создаваемом неподвижным\n",
    "центром с массой $m_1 + m_2$ . Отметим, что если масса одного из\n",
    "взаимодействующих тел значительно меньше массы другого тела, последнее можно\n",
    "рассматривать как неподвижный притягивающий центр и найденная зависимость\n",
    "$\\vec{r}_{12}(t)$ будет описывать траекторию движения более легкого тела. В\n",
    "противном случае, решив задачу о движении тела с массой m в потенциале\n",
    "$U(|\\vec{r}|)$, по зависимости $\\vec{r}(t)$ в соответствии с (2.4), (2.5)\n",
    "находят траектории каждой частицы $\\dot{\\vec{r}}_{1}(t)$,\n",
    "$\\dot{\\vec{r}}_{2}(t)$."
   ]
  },
  {
   "cell_type": "markdown",
   "metadata": {},
   "source": [
    "Воспользовавшись уравнениями Лагранжа (здесь обобщенными координатами являются\n",
    "координаты радиуса-вектора $\\dot{\\vec{r}}_{12}(t)$, обобщенными скоростями —\n",
    "координаты вектора $\\dot{\\vec{r}}_{12}(t)$). \n",
    "\n",
    "$$\\frac{d}{dt}\\frac{\\partial\n",
    "L}{\\partial \\dot{\\vec{r}}_{12}} = \\frac{\\partial L}{\\partial \\vec{r}_{12}}\n",
    "(2.8)$$\n",
    "\n",
    "получим уравнения движения тела\n",
    "\n",
    "$$m\\frac{d^2\\vec{r}_{12}}{dt^2} = -\\frac{\\gamma m (m_1 + m_2)}{|\\vec{r}_{12}|^3}\n",
    "\\vec{r}_{12} (2.9)$$\n",
    "\n",
    "которое при $m_1 \\gg m_2$ в полном соответствии с законом всемирного тяготения\n",
    "Ньютона принимает вид:\n",
    "\n",
    "$$m_2\\frac{d^2\\vec{r}_{12}}{dt^2} = - \\frac{\\gamma m (m_1m_2)}{|\\vec{r}_{12}|^3}\n",
    "\\vec{r}_{12} (2.10)$$\n",
    "\n",
    "Отметим два важных свойства силы тяготения, вытекающих из (2.10):\n",
    "1. сила зависит только от расстояния между телами;\n",
    "2. сила направлена по прямой, проходящей через центры взаимодействующих тел\n",
    "   (такие силы называются центральными).\n",
    "\n",
    "\n",
    "Можно показать, что следствием указанных свойств является сохранение момента\n",
    "импульса тела\n",
    "\n",
    "$$m\\frac{d^2\\vec{r}_{12}}{dt^2} = - \\frac{\\gamma m (m_1 +\n",
    "m_2)}{|\\vec{r}_{12}|^3} \\vec{r}_{12} (2.11)$$\n",
    "\n",
    "где $\\vec{p} = m\\vec{r}_{12}$\n",
    "\n",
    "Сохранение момента импульса, в свою очередь, означает, что траектория движения\n",
    "тела в центральном поле лежит в плоскости, которой перпендикулярен вектор\n",
    "$\\vec{L}$ . Кроме того, движение тела ограничивается условиями сохранения полной\n",
    "энергии\n",
    "\n",
    "$$E = \\frac{1}{2}m \\dot{\\vec{r}}_{12}^2 -\\frac{\\gamma m (m_1 +\n",
    "m_2)}{|\\vec{r}_{12}|} (2.12)$$\n",
    "\n",
    "и величины\n",
    "\n",
    "$$[\\dot{\\vec{r}}_{12} × L] - \\frac{\\gamma m (m_1 + m_2)\n",
    "\\vec{r}_{12}}{|\\vec{r}_{12}|} = const (2.13)$$\n",
    "\n",
    "Для решения уравнений движения выберем прямоугольную систему координат, начало\n",
    "которой находится в центре масс. (Отметим, что в отличие от аналитического\n",
    "решения, наиболее просто получаемого в полярной системе координат, численное\n",
    "решение задачи Кеплера более удобно находить, используя декартовую систему\n",
    "координат.) Уравнения движения (2.9) в выбранной системе координат имеют\n",
    "следующий вид:\n",
    "\n",
    "$$\n",
    "m \\frac{d^2x_{12}}{dt^2} = - \\frac{\\gamma m (m_1 + m_2)}{|\\vec{r}_{12}|^3} x_{12} (2.14)\n",
    "$$\n",
    "\n",
    "$$\n",
    "m \\frac{d^2y_{12}}{dt^2} = - \\frac{\\gamma m (m_1 + m_2)}{|\\vec{r}_{12}|^3} y_{12} (2.15)\n",
    "$$\n",
    "\n",
    "\n",
    "Введя обозначение $M = m_1 + m_2$ и сократив общие множители, запишем выражения (2.14), (2.15), составляющие систему ДУ второго порядка, в виде\n",
    "\n",
    "$$\n",
    "\\frac{d^2x_{12}}{dt^2} = - \\frac{\\gamma M}{(x_{12}^2 + y_{12}^2)^{3/2}} x_{12} (2.16)\n",
    "$$\n",
    "\n",
    "$$\n",
    "\\frac{d^2y_{12}}{dt^2} =  - \\frac{\\gamma M}{(x_{12}^2 + y_{12}^2)^{3/2}} y_{12} (2.17)\n",
    "$$\n",
    "\n",
    "Предваряя численное решение системы уравнений (2.16), (2.17), проведем\n",
    "обезразмеривание этих уравнений, выбрав в качестве единиц измерения расстояния\n",
    "радиус орбиты $R$ и времени — период обращения $T$, соответствующие движению\n",
    "тела по окружности. Тогда можно ввести безразмерные переменные\n",
    "$X = \\frac{x_{12}}{R}$,\n",
    "$Y = \\frac{y_{12}}{R}$, $\\tau = \\frac{t}{T}$. Выполнив в (2.16), (2.17) замену переменных $x \\rightarrow  X$, $y \\rightarrow  Y$ , $t \\rightarrow  \\tau$, получаем\n",
    "\n",
    "$$\n",
    "\\frac{d^2X}{d \\tau ^2} =  - \\frac{\\gamma M T^2}{R^3(X^2 + Y^2)^{3/2}} X (2.18)\n",
    "$$\n",
    "\n",
    "$$\n",
    "\\frac{d^2Y}{d\\tau ^2} =  - \\frac{\\gamma M T^2}{R^3(X^2 + Y^2)^{3/2}} Y (2.19)\n",
    "$$\n",
    "\n",
    "Как известно, при движении тела по окружности величина центростремительного\n",
    "ускорения a связана с радиусом круговой орбиты $|\\vec{R}|$ и скоростью тела $|\\vec{v}|$ соотношением\n",
    "\n",
    "$$\n",
    "a = \\frac{|\\vec{v}|^2}{|\\vec{R}|} (2.20)\n",
    "$$\n",
    "\n",
    "При движении в гравитационном поле по окружности центростремительное ускорение обусловлено гравитационной силой. Следовательно,\n",
    "\n",
    "$$\n",
    "\\frac{m|\\vec{v}|^2}{|\\vec{R}|} = \\frac{\\gamma m M}{|\\vec{R}|^2} (2.21)\n",
    "$$\n",
    "\n",
    "откуда находим\n",
    "\n",
    "$$\n",
    "|\\vec{v}| = (\\frac{\\gamma M}{|\\vec{R}|})^{1/2} (2.22)\n",
    "$$\n",
    "\n",
    "Выражение (2.21), являясь общим условием для любой круговой орбиты, позволяет найти зависимость периода движения от радиуса орбиты:\n",
    "\n",
    "$$\n",
    "T = \\frac{2\\pi|\\vec{R}|}{|\\vec{v}|} (2.23)\n",
    "$$\n",
    "\n",
    "поэтому, подставив в (2.22) выражение (2.21), получим\n",
    "\n",
    "$$\n",
    "T = \\sqrt(\\frac{4 \\pi^2 |\\vec{R}|^3}{\\gamma M}) (2.24)\n",
    "$$\n",
    "\n",
    "Подставляя выражение (2.23) в (2.18), (2.19), окончательно получаем обезразмеренную систему уравнений:\n",
    "\n",
    "$$\n",
    "\\frac{dX^2}{d \\tau^2} = - \\frac{4 \\pi^2}{(x^2+Y^2)^{3/2}}X (2.25)\n",
    "$$\n",
    "\n",
    "$$\n",
    "\\frac{dY^2}{d \\tau^2} = - \\frac{4 \\pi^2}{(x^2+Y^2)^{3/2}}Y (2.26)\n",
    "$$\n",
    "\n",
    "Из уравнений (2.25), (2.26) видно, что они оказываются универсальными, поскольку в (2.25), (2.26) не входят ни период обращения тела вокруг центра поля, ни радиус\n",
    "орбиты. Следовательно, величина $\\frac{T^2}{R^3}$, входящая в (2.18), (2.19), одинакова для всех\n",
    "тел, совершающих движение в гравитационном поле по замкнутым траекториям. Данный результат является доказательством справедливости третьего закона Кеплера.\n",
    "\n",
    "При решении системы дифференциальных уравнений будем считать, что в начальный момент времени тело находилось в точке с радиусом-вектором $\\vec{r} = (R, 0)$ , скорость тела была направлена вертикально\n",
    "вверх $\\vec{v} = (0, v)$.\n",
    "\n",
    "Так как система уравнений (2.25), (2.26) является безразмерной, необходимо также\n",
    "привести к безразмерному виду начальные условия. Выполнив, как и выше, замену\n",
    "переменных\n",
    "$\\vec{r} = \\vec{\\rho} \\cdot R$, $t = \\tau \\cdot T$, приводим\n",
    "начальные условия к следующему виду:\n",
    "\n",
    "$$\n",
    "\\vec{\\rho} = (1, 0) (2.27)\n",
    "$$\n",
    "\n",
    "$$\n",
    "\\vec{V} = (0, v\\frac{T}{R}) (2.28)\n",
    "$$\n",
    "\n",
    "где $T$ определяется выражением (2.24). Однако использовать конкретные числовые\n",
    "значения $R$, $T$, $M$ для проверки законов Кеплера не требуется, так как\n",
    "безразмерные начальные условия также обладают известным универсализмом. Для того\n",
    "чтобы это показать, найдем безразмерную скорость тела, движущегося в\n",
    "гравитационном поле по окружности. Подставив (2.23) в (2.28), получаем\n",
    "\n",
    "$$\n",
    "\\vec{V} = (0, 2\\pi) (2.29)\n",
    "$$\n",
    "\n",
    "Из (2.29) видно, что для получения орбит, отличных от круговых достаточно задавать значения начальной скорости, отличные от $2\\pi$."
   ]
  },
  {
   "cell_type": "markdown",
   "metadata": {},
   "source": [
    "### Численное моделирование орбиты"
   ]
  },
  {
   "cell_type": "markdown",
   "metadata": {},
   "source": [
    "Предваряя нахождение численного решения системы уравнений (2.25), (2.26), \n",
    "приведем ее к эквивалентной системе уравнений первого порядка, выполнив замену \n",
    "переменных $X \\rightarrow  z_1$, $X' \\rightarrow  z_2$, $Y \\rightarrow  z_3$, \n",
    "$Z' \\rightarrow z_4$:\n",
    "\n",
    "$$\\frac{dz_1}{d\\tau} = z_2 (2.30)$$\n",
    "$$\\frac{dz_2}{d\\tau} = -\\frac{4\\pi^2 z_1}{(z_1^2+z_3^2)^{3/2}} (2.31)$$\n",
    "$$\\frac{dz_3}{d\\tau} = z_4 (2.32)$$\n",
    "$$\\frac{dz_4}{d\\tau} = -\\frac{4\\pi^2 z_3}{(z_1^2+z_3^2)^{3/2}} (2.33)$$\n"
   ]
  },
  {
   "cell_type": "markdown",
   "metadata": {},
   "source": [
    "#### Задание. Создайте функцию, возвращающую значения координат вектора-функции, стоящей в левой части системы (2.30)–(2.33)"
   ]
  },
  {
   "cell_type": "code",
   "execution_count": null,
   "metadata": {},
   "outputs": [],
   "source": [
    "# код"
   ]
  },
  {
   "cell_type": "markdown",
   "metadata": {},
   "source": [
    "#### Задание. Постройте зависимости $x = x(t)$, $y = y(t)$, $x' = '(t)$, $y' y'(t)$ и траекторию движения тела для $t$ от 0 до 2.5 и начальных условиях равных 0"
   ]
  },
  {
   "cell_type": "code",
   "execution_count": null,
   "metadata": {},
   "outputs": [],
   "source": [
    "# код"
   ]
  },
  {
   "cell_type": "markdown",
   "metadata": {},
   "source": [
    "### Проверка второго закона Кеплера"
   ]
  },
  {
   "cell_type": "markdown",
   "metadata": {},
   "source": [
    "Для проверки второго закона Кеплера необходимо провести сравнение площади, заметаемой радиусом-вектором за равные промежутки времени, используя значения кинематических характеристик движения тела в гравитационном поле, полученные численным решением системы ДУ (2.30)–(2.33), возвращенные в матрицу $Y$. Напомним, что размерность матрицы $Y$, содержащей решения системы ДУ, равна $N × 4$; нумерация столбцов и строк матрицы начинается с первого значения; значения зависимостей $x = x(t)$, $v = x′(t)$, $y = y(t)$, $y = y′(t)$ содержатся соответственно в первом, втором, третьем и четвертом столбцах матрицы.\n",
    "\n",
    "При достаточно малом шаге интегрирования $\\Delta t$ уравнений движения (определяемом количеством точек N, в которых ищется решение системы дифференциальных уравнений, $\\Delta t = \\frac{T_{finish}}{N}$) площадь, заметаемая радиусом-вектором за время $\\Delta t$, примерно равна площади треугольника с вершинами в точках $(0, 0), (Y (n, 1), Y (n, 3)), (Y(n+1, 1),Y(n+1, 3))$.\n",
    "\n",
    "Для вычисления площади треугольника, у которого заданы координаты вершин, можно воспользоваться формулой Герона:\n",
    "$$S = \\sqrt{p(p-a)(p-b)(p-c)} (2.34)$$\n",
    "где $p$ — полупериметр треугольника, $a, b, c$ — длины его сторон:\n",
    "\n",
    "$$a = \\sqrt{Y(n,1)^2+Y(n,3)^2} (2.35)$$\n",
    "$$b = \\sqrt{Y(n+1,1)^2+Y(n,3)^2} (2.36)$$\n",
    "$$c = \\sqrt{(Y(n+1,1)-Y(n,1))^2+(Y(n+1,3)-Y(n,3))^2} (2.37)$$\n",
    "\n",
    "Однако программа вычисления площади сектора, заметаемого радиусом-вектором, получается более компактной, если использовать встроенную функцию [numpy.cross](https://numpy.org/doc/stable/reference/generated/numpy.cross.html), вычисляющую векторное произведение трехмерных векторов. Как известно из аналитической геометрии, площадь треугольника, равна\n",
    "$$\n",
    "S = \\frac{1}{2}|[\\vec{a}×\\vec{b}] , (2.38) \n",
    "$$\n",
    "поэтому алгоритм вычисления площади сектора, заметаемого радиусом-вектором, реализуется следующей последовательностью действий:\n",
    "\n",
    "1. Задание начального момента времени и длины временного интервала, на котором вычисляется площадь, заметаемая радиусом-вектором.\n",
    "2. Присвоение в момент времени $t(n)$ координатам вектора $\\vec{a}$, соответствующих значений координат орбиты\n",
    "$$\n",
    "\\vec{a} = \n",
    "\\begin{pmatrix}\n",
    "Y(n,1)\\\\ \n",
    "Y(n,3)\\\\ \n",
    "0\n",
    "\\end{pmatrix}\n",
    "$$\n",
    "1. Присвоение в момент времени $t(n)$ координатам вектора $\\vec{b} соответствующих значений координат орбиты\n",
    "$$\n",
    "\\vec{b} = \n",
    "\\begin{pmatrix}\n",
    "Y(n+1,1)\\\\ \n",
    "Y(n+1,3)\\\\ \n",
    "0\n",
    "\\end{pmatrix}\n",
    "$$\n",
    "2. Вычисление площади треугольника $\\Delta S$, радиусом-вектором на временном интервале $[t(n), t(n + 1)]$.\n",
    "\n",
    "3. Нахождение площади, заметаемой радиусом-вектором на временном интервале $[t(1), t(n + 1)]$, суммированием известной площади, заметаемой радиусом-вектором на интервале $[t(1), t(n)]$, и $\\Delta S$.\n",
    "\n",
    "При составлении ниже описанной программы, реализующей описанный вычислительный алгоритм, мы исходили из следующих предположений:\n",
    "1. Материальная точка в момент времени $t = 0$ находится в точке с радиусом вектором\n",
    "\n",
    "$$\n",
    "\\begin{pmatrix}\n",
    "1\\\\ \n",
    "0\\\\ \n",
    "0\n",
    "\\end{pmatrix}\n",
    "$$\n",
    "\n",
    "2. Длительность временного интервала, на котором получено численное решение системы ДУ (2.30)–(2.33), такова, что материальная точка совершает не более 1,25 оборотов.\n",
    "Так как нам заранее неизвестно точное значение периода одного оборота материальной точки вокруг притягивающего центра, в программе мы находим его численно, определяя при этом номер $N_m$ соответствующего элемента вектора. Кроме того, следует учесть, что периодичность движения приводит к следующим правилам вычисления номера текущей координаты радиуса-вектора:\n",
    "$$\n",
    "\\begin{matrix}\n",
    "n, n\\leq N_m\\\\ \n",
    "n-N_m,>N_m\n",
    "\\end{matrix} (2.39)\n",
    "$$"
   ]
  },
  {
   "cell_type": "markdown",
   "metadata": {},
   "source": [
    "#### Задание. Сделать функцию, в которой будет реализован представленный алгоритм\n",
    "Функция, возвращающая площадь заметаемой радиус-вектором"
   ]
  },
  {
   "cell_type": "code",
   "execution_count": null,
   "metadata": {},
   "outputs": [],
   "source": [
    "# код"
   ]
  },
  {
   "cell_type": "markdown",
   "metadata": {},
   "source": [
    "#### Задание. Создайте функцию возвращающую площадь, заметаемую радиус-вектором и координаты соответствующих точек орбиты\n"
   ]
  },
  {
   "cell_type": "code",
   "execution_count": null,
   "metadata": {},
   "outputs": [],
   "source": [
    "# код"
   ]
  },
  {
   "cell_type": "markdown",
   "metadata": {},
   "source": [
    "#### Задание. Отобразите траектория движения и сектор, заметаемый радиусом-вектором на временном интервале $[0.5; 1]$\n"
   ]
  },
  {
   "cell_type": "code",
   "execution_count": null,
   "metadata": {},
   "outputs": [],
   "source": [
    "# код"
   ]
  },
  {
   "cell_type": "markdown",
   "metadata": {},
   "source": [
    "#### Задание. Проведите расчеты при различных значениях начальной скорости и убедитесь, что для безразмерных скоростей незначительно меньших или превосходящих $2\\pi$ орбита является замкнутым эллипсом, в одном из фокусов которого находится Солнце. Это является иллюстрацией правильности первого закона Кеплера."
   ]
  },
  {
   "cell_type": "code",
   "execution_count": null,
   "metadata": {},
   "outputs": [],
   "source": [
    "# код"
   ]
  },
  {
   "cell_type": "markdown",
   "metadata": {},
   "source": [
    "### Моделирование солнечной системы"
   ]
  },
  {
   "cell_type": "markdown",
   "metadata": {},
   "source": [
    "Ранее мы занимались моделированием орбит, рассматривая задачу двух сил. Однако реальные планетные системы не являются системами двух тел, так как между\n",
    "всеми телами действуют силы гравитационного взаимодействия. Несмотря на то что\n",
    "силы гравитационного взаимодействия малы по сравнению с силой притяжения к центральному светилу, в ряде случаев они приводят к реально наблюдаемым эффектам.\n",
    "Например, на основании несовпадения экспериментальных данных об орбите планеты\n",
    "Уран и теоретических расчетов было предсказано существование планеты Нептун.\n",
    "Учет взаимного влияния других тел, находящихся в гравитационном поле, создаваемом телом большой массы ($M$), означает, что полная сила, действующая на планету, уже не является центральной. Кроме того, в действительности орбиты планет\n",
    "могут не лежать в одной плоскости (как, например, в Солнечной системе), поэтому\n",
    "для проведения точных расчетов необходимо решать задачу в трехмерном пространстве. Однако для понимания последствий влияния сил гравитационного взаимодействия между движущимися телами оказывается достаточно рассмотреть двумерную\n",
    "модель, состоящую из двух тел массой $m_1$, $m_2$.\n",
    "Для описания движения тел этой системы выберем прямоугольную систему координат. В выбранной системе координат в предположении, что $M \\gg m_1 + m_2$, функция Лагранжа имеет вид:\n",
    "\n",
    "$$L = \\frac{m_1 \\dot{\\vec{r}}^2_1}{2} + \\frac{m_2 \\dot{\\vec{r}}^2_2}{2} + \\frac{\\gamma m_1M}{|\\vec{r}_1|} + \\frac{\\gamma Mm_2}{|\\vec{r}_2|} + \\frac{\\gamma m_1m_2}{|\\vec{r}_{12}|} (2.57)$$\n",
    "\n",
    "Воспользовавшись уравнениями Лагранжа (2.8), получим уравнения движения тел:\n",
    "\n",
    "$$m_1 \\frac{d^2\\vec{r}_1}{dt^2} = -\\frac{\\gamma m_1 M}{|\\vec{r}_1|^3}\\vec{r}_1 -\\frac{\\gamma m_1m_2}{|\\vec{r}_{12}|^3}\\vec{r}_{12} (2.58)$$\n",
    "\n",
    "$$m_2 \\frac{d^2\\vec{r}_1}{dt^2} = -\\frac{\\gamma m_2 M}{|\\vec{r}_1|^3}\\vec{r}_1 -\\frac{\\gamma m_1m_2}{|\\vec{r}_{12}|^3}\\vec{r}_{12} (2.59)$$\n",
    "\n",
    "Для нахождения численного решения\n",
    "системы уравнений (2.58), (2.59), как и было сделано выше, следует провести обезразмеривание уравнений движения. Выбрав\n",
    "в качестве единиц измерения длины и времени величины, соответствующих движению по круговой орбите тела массой в гравитационном потенциале, создаваемом телом массой $M$, получаем:\n",
    "\n",
    "$$\\frac{d^2X1}{d\\tau^2} = - \\frac{4 \\pi^2X1}{((X2-X1)^2+(Y2-Y1)^2)^{3/2}} - \\frac{4 \\pi^2 \\delta_1(X2-X1)}{((X2-X1)^2+(Y2-Y1)^2)^{3/2}} (2.60)$$\n",
    "$$\\frac{d^2Y1}{d\\tau^2} = - \\frac{4 \\pi^2Y1}{((X2-X1)^2+(Y2-Y1)^2)^{3/2}} - \\frac{4 \\pi^2 \\delta_1(Y2-Y1)}{((X2-X1)^2+(Y2-Y1)^2)^{3/2}} (2.61)$$\n",
    "$$\\frac{d^2X2}{d\\tau^2} = - \\frac{4 \\pi^2X1}{((X2-X1)^2+(Y2-Y1)^2)^{3/2}} - \\frac{4 \\pi^2 \\delta_2(X2-X1)}{((X2-X1)^2+(Y2-Y1)^2)^{3/2}} (2.62)$$\n",
    "$$\\frac{d^2Y2}{d\\tau^2} = - \\frac{4 \\pi^2Y1}{((X2-X1)^2+(Y2-Y1)^2)^{3/2}} - \\frac{4 \\pi^2 \\delta_2(Y2-Y1)}{((X2-X1)^2+(Y2-Y1)^2)^{3/2}} (2.63)$$\n",
    "\n",
    "При решении системы дифференциальных уравнений будем считать, что в начальный момент времени тело массой $m_1$ находилось в точке с радиусом-вектором $\\vec{r}_1 = (R_1,0)$, скорость тела была направлена вертикально вверх $\\vec{v}_1 = (0,v_1)$, тело\n",
    "массой $m_2$ находилось в точке с радиусом-вектором  $\\vec{r}_2 = (R_2,0)$ $(R2 = R1 + \\Delta R)$ скорость тела была направлена вертикально вверх $\\vec{v}_2 = (0,v_2)$.\n",
    "Безразмерные начальные условия имеют вид\n",
    "\n",
    "$$\n",
    "\\begin{matrix}\n",
    "\\vec{\\rho}_1 = (1,0)\\\\ \n",
    "\\vec{\\rho}_2 = (1\\pm \\frac{\\Delta R}{R1},0)\\\\ \n",
    "\\vec{v}_1 = (0,v_1\\frac{R_1}{T_1})\\\\ \n",
    "\\vec{v}_2 = (0,v_2\\frac{R_1}{T_1})\n",
    "\\end{matrix} (2.64)$$"
   ]
  },
  {
   "cell_type": "markdown",
   "metadata": {},
   "source": [
    "#### Задание. Найдите решение системы уравнений движения (2.58), (2.59), считая, что параметры орбит и массы движущихся тел совпадают с соответствующими параметрами Земли и Луны.\n",
    "\n",
    "1. Постройте зависимости координат и скоростей движения обоих тел\n",
    "от времени.\n",
    "2. Используя вычисленные значения координат, постройте зависимости\n",
    "координат от времени и орбиту Луны в системе отсчета, связанной\n",
    "Землей. Сравните полученные результаты с данными о движении Луны,\n",
    "полученными в лабораторной работе 2."
   ]
  },
  {
   "cell_type": "code",
   "execution_count": null,
   "metadata": {},
   "outputs": [],
   "source": [
    "# код"
   ]
  },
  {
   "cell_type": "markdown",
   "metadata": {},
   "source": [
    "##### Выводы по сравнению моделей"
   ]
  },
  {
   "cell_type": "markdown",
   "metadata": {},
   "source": []
  },
  {
   "cell_type": "markdown",
   "metadata": {},
   "source": [
    "## Выводы по работе"
   ]
  },
  {
   "cell_type": "markdown",
   "metadata": {},
   "source": [
    "Выводы"
   ]
  }
 ],
 "metadata": {
  "kernelspec": {
   "display_name": "Python 3.6.5",
   "language": "python",
   "name": "python3"
  },
  "language_info": {
   "codemirror_mode": {
    "name": "ipython",
    "version": 3
   },
   "file_extension": ".py",
   "mimetype": "text/x-python",
   "name": "python",
   "nbconvert_exporter": "python",
   "pygments_lexer": "ipython3",
   "version": "3.6.5"
  },
  "orig_nbformat": 4,
  "vscode": {
   "interpreter": {
    "hash": "ee08e356aadacaf4c5e20314285070eb148ab1e7383153649611619bae74a149"
   }
  }
 },
 "nbformat": 4,
 "nbformat_minor": 2
}
